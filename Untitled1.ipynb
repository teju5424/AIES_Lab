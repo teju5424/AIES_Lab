{
  "nbformat": 4,
  "nbformat_minor": 0,
  "metadata": {
    "colab": {
      "provenance": [],
      "authorship_tag": "ABX9TyMRKshLONxkLGM8iy24AMzd",
      "include_colab_link": true
    },
    "kernelspec": {
      "name": "python3",
      "display_name": "Python 3"
    },
    "language_info": {
      "name": "python"
    }
  },
  "cells": [
    {
      "cell_type": "markdown",
      "metadata": {
        "id": "view-in-github",
        "colab_type": "text"
      },
      "source": [
        "<a href=\"https://colab.research.google.com/github/teju5424/AIES_Lab/blob/main/Untitled1.ipynb\" target=\"_parent\"><img src=\"https://colab.research.google.com/assets/colab-badge.svg\" alt=\"Open In Colab\"/></a>"
      ]
    },
    {
      "cell_type": "code",
      "source": [
        "! pip install fairlearn"
      ],
      "metadata": {
        "colab": {
          "base_uri": "https://localhost:8080/"
        },
        "id": "1GFC50thd43C",
        "outputId": "fa3284e6-cb23-4590-b1da-509b8017718b"
      },
      "execution_count": 3,
      "outputs": [
        {
          "output_type": "stream",
          "name": "stdout",
          "text": [
            "Requirement already satisfied: fairlearn in /usr/local/lib/python3.11/dist-packages (0.12.0)\n",
            "Requirement already satisfied: numpy>=1.24.4 in /usr/local/lib/python3.11/dist-packages (from fairlearn) (2.0.2)\n",
            "Requirement already satisfied: pandas>=2.0.3 in /usr/local/lib/python3.11/dist-packages (from fairlearn) (2.2.2)\n",
            "Requirement already satisfied: scikit-learn>=1.2.1 in /usr/local/lib/python3.11/dist-packages (from fairlearn) (1.6.1)\n",
            "Requirement already satisfied: scipy>=1.9.3 in /usr/local/lib/python3.11/dist-packages (from fairlearn) (1.16.1)\n",
            "Requirement already satisfied: python-dateutil>=2.8.2 in /usr/local/lib/python3.11/dist-packages (from pandas>=2.0.3->fairlearn) (2.9.0.post0)\n",
            "Requirement already satisfied: pytz>=2020.1 in /usr/local/lib/python3.11/dist-packages (from pandas>=2.0.3->fairlearn) (2025.2)\n",
            "Requirement already satisfied: tzdata>=2022.7 in /usr/local/lib/python3.11/dist-packages (from pandas>=2.0.3->fairlearn) (2025.2)\n",
            "Requirement already satisfied: joblib>=1.2.0 in /usr/local/lib/python3.11/dist-packages (from scikit-learn>=1.2.1->fairlearn) (1.5.1)\n",
            "Requirement already satisfied: threadpoolctl>=3.1.0 in /usr/local/lib/python3.11/dist-packages (from scikit-learn>=1.2.1->fairlearn) (3.6.0)\n",
            "Requirement already satisfied: six>=1.5 in /usr/local/lib/python3.11/dist-packages (from python-dateutil>=2.8.2->pandas>=2.0.3->fairlearn) (1.17.0)\n"
          ]
        }
      ]
    },
    {
      "cell_type": "code",
      "source": [
        "import pandas as pd\n",
        "from sklearn.model_selection import train_test_split\n",
        "from sklearn.linear_model import LogisticRegression\n",
        "from fairlearn.metrics import MetricFrame, true_positive_rate, false_positive_rate, false_negative_rate, selection_rate\n",
        "from fairlearn.reductions import ExponentiatedGradient, DemographicParity\n",
        "from sklearn.metrics import accuracy_score"
      ],
      "metadata": {
        "id": "o5GagMDOd4zW"
      },
      "execution_count": 4,
      "outputs": []
    },
    {
      "cell_type": "code",
      "source": [
        "df = pd.read_csv(\"/content/healthcare_fairness_dataset.csv\")"
      ],
      "metadata": {
        "id": "Rm3puJLZd4nE"
      },
      "execution_count": 5,
      "outputs": []
    },
    {
      "cell_type": "code",
      "source": [
        "df = pd.get_dummies(df, columns=[\"gender\", \"region\"], drop_first=True)"
      ],
      "metadata": {
        "id": "QP2RcFHpd4jn"
      },
      "execution_count": 6,
      "outputs": []
    },
    {
      "cell_type": "code",
      "source": [
        "features = ['age', 'symptoms_score', 'hospital_visits', 'gender_Male', 'region_Urban']\n",
        "X = df[features]\n",
        "y = df['diagnosis']"
      ],
      "metadata": {
        "id": "vlx-Olk-d4hT"
      },
      "execution_count": 7,
      "outputs": []
    },
    {
      "cell_type": "code",
      "source": [
        "sensitive_gender = df['gender_Male']\n",
        "sensitive_region = df['region_Urban']"
      ],
      "metadata": {
        "id": "vXlqqBjyd4eq"
      },
      "execution_count": 8,
      "outputs": []
    },
    {
      "cell_type": "code",
      "source": [
        "X_train, X_test, y_train, y_test, s_gender_train, s_gender_test = train_test_split(\n",
        "    X, y, sensitive_gender, test_size=0.3, random_state=42, stratify=y\n",
        ")"
      ],
      "metadata": {
        "id": "BK02Ai7ueJlj"
      },
      "execution_count": 9,
      "outputs": []
    },
    {
      "cell_type": "code",
      "source": [
        "clf = LogisticRegression(max_iter=1000)\n",
        "clf.fit(X_train, y_train)\n",
        "y_pred = clf.predict(X_test)\n"
      ],
      "metadata": {
        "id": "0HPqN44CeJil"
      },
      "execution_count": 10,
      "outputs": []
    },
    {
      "cell_type": "code",
      "source": [
        "metric_frame_gender = MetricFrame(\n",
        "    metrics={\n",
        "        'TPR': true_positive_rate,\n",
        "        'FPR': false_positive_rate,\n",
        "        'FNR': false_negative_rate,\n",
        "        'Selection Rate': selection_rate\n",
        "    },\n",
        "    y_true=y_test,\n",
        "    y_pred=y_pred,\n",
        "    sensitive_features=s_gender_test\n",
        ")\n",
        "\n",
        "print(\"Fairness Metrics by Gender (0=Female, 1=Male):\\n\", metric_frame_gender.by_group)"
      ],
      "metadata": {
        "colab": {
          "base_uri": "https://localhost:8080/"
        },
        "id": "YaTXnTe4eJgl",
        "outputId": "0b98e006-d61b-4be2-dc45-dd2af1d19409"
      },
      "execution_count": 11,
      "outputs": [
        {
          "output_type": "stream",
          "name": "stdout",
          "text": [
            "Fairness Metrics by Gender (0=Female, 1=Male):\n",
            "                   TPR       FPR       FNR  Selection Rate\n",
            "gender_Male                                              \n",
            "False        0.933333  0.578947  0.066667        0.795918\n",
            "True         1.000000  1.000000  0.000000        1.000000\n"
          ]
        }
      ]
    },
    {
      "cell_type": "code",
      "source": [
        "constraint = DemographicParity()\n",
        "mitigator = ExponentiatedGradient(\n",
        "    LogisticRegression(max_iter=1000),\n",
        "    constraint,\n",
        "    sample_weight_name='sample_weight'\n",
        ")\n",
        "\n",
        "mitigator.fit(X_train, y_train, sensitive_features=s_gender_train)\n",
        "y_pred_mitigated = mitigator.predict(X_test)"
      ],
      "metadata": {
        "id": "V1NfiIZheJeP"
      },
      "execution_count": 12,
      "outputs": []
    },
    {
      "cell_type": "code",
      "source": [
        "metric_frame_mitigated = MetricFrame(\n",
        "    metrics={\n",
        "        'TPR': true_positive_rate,\n",
        "        'FPR': false_positive_rate,\n",
        "        'FNR': false_negative_rate,\n",
        "        'Selection Rate': selection_rate\n",
        "    },\n",
        "    y_true=y_test,\n",
        "    y_pred=y_pred_mitigated,\n",
        "    sensitive_features=s_gender_test\n",
        ")\n",
        "\n",
        "print(\"\\nAfter Mitigation — Fairness Metrics by Gender:\\n\", metric_frame_mitigated.by_group)"
      ],
      "metadata": {
        "colab": {
          "base_uri": "https://localhost:8080/"
        },
        "id": "8apHRp4ceJb2",
        "outputId": "5d4c4dc7-b5b1-4397-e0af-7b299eff4d80"
      },
      "execution_count": 13,
      "outputs": [
        {
          "output_type": "stream",
          "name": "stdout",
          "text": [
            "\n",
            "After Mitigation — Fairness Metrics by Gender:\n",
            "                   TPR       FPR       FNR  Selection Rate\n",
            "gender_Male                                              \n",
            "False        1.000000  0.842105  0.000000        0.938776\n",
            "True         0.970588  1.000000  0.029412        0.975610\n"
          ]
        }
      ]
    }
  ]
}