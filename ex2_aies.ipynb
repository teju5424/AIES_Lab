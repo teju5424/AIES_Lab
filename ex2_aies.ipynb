{
  "nbformat": 4,
  "nbformat_minor": 0,
  "metadata": {
    "colab": {
      "provenance": [],
      "include_colab_link": true
    },
    "kernelspec": {
      "name": "python3",
      "display_name": "Python 3"
    },
    "language_info": {
      "name": "python"
    }
  },
  "cells": [
    {
      "cell_type": "markdown",
      "metadata": {
        "id": "view-in-github",
        "colab_type": "text"
      },
      "source": [
        "<a href=\"https://colab.research.google.com/github/teju5424/AIES_Lab/blob/main/ex2_aies.ipynb\" target=\"_parent\"><img src=\"https://colab.research.google.com/assets/colab-badge.svg\" alt=\"Open In Colab\"/></a>"
      ]
    },
    {
      "cell_type": "markdown",
      "source": [
        "Name : Tejasvini Tatoba Kanawade PRN :22SC114501071 Class: B.tech 'B' Title: Impact of Data Quality on AI Fairness\n",
        "\n",
        "\n"
      ],
      "metadata": {
        "id": "O5P8_qd-YdAY"
      }
    },
    {
      "cell_type": "markdown",
      "source": [
        "Experiment 2: Impact of Data Quality on AI Fairness\n"
      ],
      "metadata": {
        "id": "OJfXBtQR-slq"
      }
    },
    {
      "cell_type": "markdown",
      "source": [
        "**Objective: To understand how imbalanced data affects the fairness and performance of AI models — and how data balancing techniques (like SMOTE) can improve fairness.**"
      ],
      "metadata": {
        "id": "qkW76NSA_Ovi"
      }
    },
    {
      "cell_type": "markdown",
      "source": [
        "Theory:\n",
        "AI systems are only as fair as the data they learn from. If one class or group is underrepresented (e.g., 90% male data, 10% female), the model will likely favor the majority group. This introduces algorithmic unfairness."
      ],
      "metadata": {
        "id": "TebNQ9sc-sAq"
      }
    },
    {
      "cell_type": "markdown",
      "source": [
        "Dataset:  real-world dataset—the COMPAS Recidivism dataset from ProPublica"
      ],
      "metadata": {
        "id": "gq7AUEvc_j0B"
      }
    },
    {
      "cell_type": "markdown",
      "source": [
        "**COMPAS (Correctional Offender Management Profiling for Alternative Sanctions)** is a popular commercial algorithm used by judges and parole officers for scoring criminal defendant’s likelihood of reoffending (recidivism). It has been shown that the algorithm is biased in favor of white defendants, and against black inmates, based on a 2 year follow up study (i.e who actually committed crimes or violent crimes after 2 years)."
      ],
      "metadata": {
        "id": "tuU5nPRJsvdF"
      }
    },
    {
      "cell_type": "markdown",
      "source": [
        "Task: Predict two_year_recid (yes/no).\n",
        "\n",
        "Sensitive attribute: race (e.g., African‑American vs Caucasian).\n",
        "\n",
        "Goal: Evaluate how imbalanced data quality (over-/under‑representation of races or outcome labels) impacts fairness."
      ],
      "metadata": {
        "id": "2ixJD-bH_vJp"
      }
    },
    {
      "cell_type": "code",
      "source": [
        "pip install fairlearn"
      ],
      "metadata": {
        "colab": {
          "base_uri": "https://localhost:8080/"
        },
        "id": "KA7jDzHhAnXT",
        "outputId": "63ae9b43-4646-4def-eb81-83fbe50adce2"
      },
      "execution_count": null,
      "outputs": [
        {
          "output_type": "stream",
          "name": "stdout",
          "text": [
            "Collecting fairlearn\n",
            "  Downloading fairlearn-0.12.0-py3-none-any.whl.metadata (7.0 kB)\n",
            "Requirement already satisfied: numpy>=1.24.4 in /usr/local/lib/python3.11/dist-packages (from fairlearn) (2.0.2)\n",
            "Requirement already satisfied: pandas>=2.0.3 in /usr/local/lib/python3.11/dist-packages (from fairlearn) (2.2.2)\n",
            "Requirement already satisfied: scikit-learn>=1.2.1 in /usr/local/lib/python3.11/dist-packages (from fairlearn) (1.6.1)\n",
            "Requirement already satisfied: scipy>=1.9.3 in /usr/local/lib/python3.11/dist-packages (from fairlearn) (1.16.0)\n",
            "Requirement already satisfied: python-dateutil>=2.8.2 in /usr/local/lib/python3.11/dist-packages (from pandas>=2.0.3->fairlearn) (2.9.0.post0)\n",
            "Requirement already satisfied: pytz>=2020.1 in /usr/local/lib/python3.11/dist-packages (from pandas>=2.0.3->fairlearn) (2025.2)\n",
            "Requirement already satisfied: tzdata>=2022.7 in /usr/local/lib/python3.11/dist-packages (from pandas>=2.0.3->fairlearn) (2025.2)\n",
            "Requirement already satisfied: joblib>=1.2.0 in /usr/local/lib/python3.11/dist-packages (from scikit-learn>=1.2.1->fairlearn) (1.5.1)\n",
            "Requirement already satisfied: threadpoolctl>=3.1.0 in /usr/local/lib/python3.11/dist-packages (from scikit-learn>=1.2.1->fairlearn) (3.6.0)\n",
            "Requirement already satisfied: six>=1.5 in /usr/local/lib/python3.11/dist-packages (from python-dateutil>=2.8.2->pandas>=2.0.3->fairlearn) (1.17.0)\n",
            "Downloading fairlearn-0.12.0-py3-none-any.whl (240 kB)\n",
            "\u001b[?25l   \u001b[90m━━━━━━━━━━━━━━━━━━━━━━━━━━━━━━━━━━━━━━━━\u001b[0m \u001b[32m0.0/240.0 kB\u001b[0m \u001b[31m?\u001b[0m eta \u001b[36m-:--:--\u001b[0m\r\u001b[2K   \u001b[91m━━━━━━━━━━━━━━━━━━━━━━━━━\u001b[0m\u001b[91m╸\u001b[0m\u001b[90m━━━━━━━━━━━━━━\u001b[0m \u001b[32m153.6/240.0 kB\u001b[0m \u001b[31m4.7 MB/s\u001b[0m eta \u001b[36m0:00:01\u001b[0m\r\u001b[2K   \u001b[90m━━━━━━━━━━━━━━━━━━━━━━━━━━━━━━━━━━━━━━━━\u001b[0m \u001b[32m240.0/240.0 kB\u001b[0m \u001b[31m4.3 MB/s\u001b[0m eta \u001b[36m0:00:00\u001b[0m\n",
            "\u001b[?25hInstalling collected packages: fairlearn\n",
            "Successfully installed fairlearn-0.12.0\n"
          ]
        }
      ]
    },
    {
      "cell_type": "code",
      "source": [
        "import pandas as pd\n",
        "from sklearn.model_selection import train_test_split\n",
        "from sklearn.linear_model import LogisticRegression\n",
        "from fairlearn.metrics import MetricFrame, true_positive_rate, false_positive_rate"
      ],
      "metadata": {
        "id": "8UUHQsEnAZzi"
      },
      "execution_count": null,
      "outputs": []
    },
    {
      "cell_type": "markdown",
      "source": [
        "**Step 1: Load & Inspect Data**"
      ],
      "metadata": {
        "id": "h1vzS6lC_5lp"
      }
    },
    {
      "cell_type": "code",
      "source": [
        "df = pd.read_csv('compas-scores-two-years.csv')"
      ],
      "metadata": {
        "id": "usn-ETVnAM8h"
      },
      "execution_count": null,
      "outputs": []
    },
    {
      "cell_type": "code",
      "source": [
        "df.columns"
      ],
      "metadata": {
        "colab": {
          "base_uri": "https://localhost:8080/"
        },
        "id": "7gQsUXtuA16Z",
        "outputId": "bb199d2e-5089-4140-dc88-a0477a3d10b5"
      },
      "execution_count": null,
      "outputs": [
        {
          "output_type": "execute_result",
          "data": {
            "text/plain": [
              "Index(['id', 'name', 'first', 'last', 'compas_screening_date', 'sex', 'dob',\n",
              "       'age', 'age_cat', 'race', 'juv_fel_count', 'decile_score',\n",
              "       'juv_misd_count', 'juv_other_count', 'priors_count',\n",
              "       'days_b_screening_arrest', 'c_jail_in', 'c_jail_out', 'c_case_number',\n",
              "       'c_offense_date', 'c_arrest_date', 'c_days_from_compas',\n",
              "       'c_charge_degree', 'c_charge_desc', 'is_recid', 'r_case_number',\n",
              "       'r_charge_degree', 'r_days_from_arrest', 'r_offense_date',\n",
              "       'r_charge_desc', 'r_jail_in', 'r_jail_out', 'violent_recid',\n",
              "       'is_violent_recid', 'vr_case_number', 'vr_charge_degree',\n",
              "       'vr_offense_date', 'vr_charge_desc', 'type_of_assessment',\n",
              "       'decile_score.1', 'score_text', 'screening_date',\n",
              "       'v_type_of_assessment', 'v_decile_score', 'v_score_text',\n",
              "       'v_screening_date', 'in_custody', 'out_custody', 'priors_count.1',\n",
              "       'start', 'end', 'event', 'two_year_recid'],\n",
              "      dtype='object')"
            ]
          },
          "metadata": {},
          "execution_count": 5
        }
      ]
    },
    {
      "cell_type": "code",
      "source": [
        "# Keep only the needed columns\n",
        "df = df[df['race'].isin(['African-American', 'Caucasian'])]\n",
        "df = df.dropna(subset=['age', 'priors_count', 'c_charge_degree', 'two_year_recid'])"
      ],
      "metadata": {
        "id": "48FWs6ozAy4S"
      },
      "execution_count": null,
      "outputs": []
    },
    {
      "cell_type": "code",
      "source": [
        "# One-hot encode the categorical column\n",
        "df = pd.get_dummies(df, columns=['c_charge_degree'], drop_first=True)"
      ],
      "metadata": {
        "id": "KurCRgJZCA1z"
      },
      "execution_count": null,
      "outputs": []
    },
    {
      "cell_type": "code",
      "source": [
        "# Select all required columns\n",
        "features = ['age', 'priors_count'] + [col for col in df.columns if 'c_charge_degree' in col]\n",
        "X = df[features]\n",
        "y = df['two_year_recid'].astype(int)\n",
        "race = df['race']"
      ],
      "metadata": {
        "id": "Yc1Hnf4pCDdx"
      },
      "execution_count": null,
      "outputs": []
    },
    {
      "cell_type": "code",
      "source": [
        "X_train, X_test, y_train, y_test, race_train, race_test = \\\n",
        "    train_test_split(X, y, race, test_size=0.3, stratify=race)"
      ],
      "metadata": {
        "id": "hoNkru6hChFi"
      },
      "execution_count": null,
      "outputs": []
    },
    {
      "cell_type": "code",
      "source": [
        "clf = LogisticRegression(max_iter=1000)\n",
        "clf.fit(X_train, y_train)\n",
        "y_pred = clf.predict(X_test)"
      ],
      "metadata": {
        "id": "J_8i1_96ClI5"
      },
      "execution_count": null,
      "outputs": []
    },
    {
      "cell_type": "code",
      "source": [
        "from fairlearn.metrics import (\n",
        "    MetricFrame,\n",
        "    true_positive_rate,\n",
        "    false_positive_rate,\n",
        "    selection_rate,\n",
        "    demographic_parity_difference,\n",
        "    equalized_odds_difference,\n",
        "    false_negative_rate,\n",
        "    true_negative_rate\n",
        ")"
      ],
      "metadata": {
        "id": "wkh87nxLPp3v"
      },
      "execution_count": null,
      "outputs": []
    },
    {
      "cell_type": "code",
      "source": [
        "metric_frame = MetricFrame(\n",
        "    metrics={\n",
        "        'TPR': true_positive_rate,\n",
        "        'FPR': false_positive_rate,\n",
        "        'FNR': false_negative_rate,\n",
        "        'Selection Rate': selection_rate\n",
        "    },\n",
        "    y_true=y_test,\n",
        "    y_pred=y_pred,\n",
        "    sensitive_features=race_test\n",
        ")\n",
        "\n",
        "print(\"Fairness Metrics by Race Group:\\n\", metric_frame.by_group)"
      ],
      "metadata": {
        "colab": {
          "base_uri": "https://localhost:8080/"
        },
        "id": "NJFLtCnEQvZX",
        "outputId": "20d57046-5e9a-499b-8f7d-d605fc8096e0"
      },
      "execution_count": null,
      "outputs": [
        {
          "output_type": "stream",
          "name": "stdout",
          "text": [
            "Fairness Metrics by Race Group:\n",
            "                        TPR       FPR       FNR  Selection Rate\n",
            "race                                                          \n",
            "African-American  0.701252  0.285455  0.298748        0.495041\n",
            "Caucasian         0.440972  0.156250  0.559028        0.267663\n"
          ]
        }
      ]
    },
    {
      "cell_type": "code",
      "source": [
        "tpr_gap = abs(0.665 - 0.481)  # ~0.184\n",
        "fpr_gap = abs(0.342 - 0.146)  # ~0.196\n",
        "selection_gap = abs(0.505 - 0.274)  # ~0.231"
      ],
      "metadata": {
        "id": "KyS3IVU5X5d-"
      },
      "execution_count": null,
      "outputs": []
    },
    {
      "cell_type": "markdown",
      "source": [
        "TPR Gap ~ 0.18 → Moderate performance difference\n",
        "\n",
        "FPR Gap ~ 0.20 → High unjust flagging difference\n",
        "\n",
        "Selection Gap ~ 0.23 →  Major disparate treatment\n",
        "\n",
        "These values exceed commonly accepted fairness thresholds (like ≤ 0.1), meaning:\n",
        "\n",
        " **Your model is not fair across racial groups.**"
      ],
      "metadata": {
        "id": "ffHb4vN0YBhV"
      }
    },
    {
      "cell_type": "markdown",
      "source": [
        "These metrics help you judge fairness by asking these questions:\n",
        "\n",
        "![image.png](data:image/png;base64,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)"
      ],
      "metadata": {
        "id": "FFjsOOgiVFWe"
      }
    },
    {
      "cell_type": "code",
      "source": [
        "#Fairness Mitigation Code with Reweighing\n",
        "\n",
        "import pandas as pd\n",
        "from sklearn.linear_model import LogisticRegression\n",
        "from sklearn.model_selection import train_test_split\n",
        "from sklearn.metrics import accuracy_score"
      ],
      "metadata": {
        "id": "fcFgW1gRb4Dg"
      },
      "execution_count": null,
      "outputs": []
    },
    {
      "cell_type": "code",
      "source": [
        "from fairlearn.reductions import ExponentiatedGradient, DemographicParity\n",
        "from fairlearn.metrics import MetricFrame, selection_rate, true_positive_rate, false_positive_rate, false_negative_rate"
      ],
      "metadata": {
        "id": "ZFI528hscgsV"
      },
      "execution_count": null,
      "outputs": []
    },
    {
      "cell_type": "code",
      "source": [
        "df = pd.read_csv(\"compas-scores-two-years.csv\")"
      ],
      "metadata": {
        "id": "yFatk8Olczr9"
      },
      "execution_count": null,
      "outputs": []
    },
    {
      "cell_type": "code",
      "source": [
        "# Filter to African-American and Caucasian only\n",
        "df = df[df['race'].isin(['African-American', 'Caucasian'])]\n",
        "df = df.dropna(subset=['age', 'priors_count', 'r_charge_degree', 'two_year_recid'])"
      ],
      "metadata": {
        "id": "45VBxKhidBEl"
      },
      "execution_count": null,
      "outputs": []
    },
    {
      "cell_type": "code",
      "source": [
        "# One-hot encode categorical features\n",
        "df = pd.get_dummies(df, columns=['r_charge_degree'], drop_first=True)"
      ],
      "metadata": {
        "id": "HDNVY0fQdH5p"
      },
      "execution_count": null,
      "outputs": []
    },
    {
      "cell_type": "code",
      "source": [
        "# Prepare features and labels\n",
        "features = ['age', 'priors_count'] + [col for col in df.columns if 'r_charge_degree' in col]\n",
        "X = df[features]\n",
        "y = df['two_year_recid'].astype(int)\n",
        "sensitive = df['race'].map({'Caucasian': 0, 'African-American': 1})"
      ],
      "metadata": {
        "id": "19T6gf2ydRj0"
      },
      "execution_count": null,
      "outputs": []
    },
    {
      "cell_type": "code",
      "source": [
        "# Train-test split\n",
        "X_train, X_test, y_train, y_test, s_train, s_test = train_test_split(\n",
        "    X, y, sensitive, test_size=0.3, random_state=42, stratify=y\n",
        ")"
      ],
      "metadata": {
        "id": "_1mT1pKAdchG"
      },
      "execution_count": null,
      "outputs": []
    }
  ]
}